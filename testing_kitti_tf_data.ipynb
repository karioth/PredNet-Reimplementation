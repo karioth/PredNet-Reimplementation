{
  "nbformat": 4,
  "nbformat_minor": 0,
  "metadata": {
    "colab": {
      "provenance": [],
      "authorship_tag": "ABX9TyOBN/6RZ58Es2pe9CWk6fIF",
      "include_colab_link": true
    },
    "kernelspec": {
      "name": "python3",
      "display_name": "Python 3"
    },
    "language_info": {
      "name": "python"
    }
  },
  "cells": [
    {
      "cell_type": "markdown",
      "metadata": {
        "id": "view-in-github",
        "colab_type": "text"
      },
      "source": [
        "<a href=\"https://colab.research.google.com/github/karioth/PredNet_tf/blob/main/testing_kitti_tf_data.ipynb\" target=\"_parent\"><img src=\"https://colab.research.google.com/assets/colab-badge.svg\" alt=\"Open In Colab\"/></a>"
      ]
    },
    {
      "cell_type": "code",
      "execution_count": 1,
      "metadata": {
        "colab": {
          "base_uri": "https://localhost:8080/"
        },
        "id": "Fe625rB4vFnU",
        "outputId": "f28c1514-c43e-4dc1-fe69-fad04bd33526"
      },
      "outputs": [
        {
          "output_type": "stream",
          "name": "stdout",
          "text": [
            "fatal: destination path 'PredNet_tf' already exists and is not an empty directory.\n",
            "Drive already mounted at /content/drive; to attempt to forcibly remount, call drive.mount(\"/content/drive\", force_remount=True).\n"
          ]
        }
      ],
      "source": [
        "! git clone https://github.com/karioth/PredNet_tf\n",
        "\n",
        "from google.colab import drive\n",
        "drive.mount('/content/drive')"
      ]
    },
    {
      "cell_type": "code",
      "source": [
        "from datapipeline_tf_kitti.dataset_creation import make_dataset\n",
        "from datapipeline_tf_kitti.dataset_utils import get_relevant_paths, visualize_sequence\n",
        "\n",
        "import tensorflow as tf\n",
        "\n",
        "\n",
        "DATA_DIR = '/content/drive/MyDrive/Colab Notebooks/PredNet/raw_data/'\n",
        "\n",
        "# Configuration\n",
        "sequence_length = 10  # Length of the image sequence\n",
        "batch_size = 4  # Number of sequences per batch\n",
        "target_size = (128, 160)  # Target height and width of images\n",
        "shuffle_buffer_size= 400 # Number of images to shuffle in the buffer adjust to computational resources\n",
        "base_dir = DATA_DIR  # Change this to your actual raw data directory\n",
        "\n",
        "# Get the paths to the picture files\n",
        "train_paths, test_paths, val_paths = get_relevant_paths(base_dir, [DATA_DIR + 'sources_train.hkl', DATA_DIR + 'sources_test.hkl', DATA_DIR + 'sources_val.hkl'])\n",
        "\n",
        "\n",
        "# Create the dataset\n",
        "dataset_val = make_dataset(train_paths, sequence_length, batch_size, target_size, N_seq=100)\n",
        "dataset_test = make_dataset(test_paths, sequence_length, batch_size, target_size, N_seq=100)\n",
        "dataset_train = make_dataset(val_paths, sequence_length, batch_size, target_size, shuffle=True, shuffle_buffer_size=shuffle_buffer_size)"
      ],
      "metadata": {
        "colab": {
          "base_uri": "https://localhost:8080/",
          "height": 383
        },
        "id": "DWX9N5EOve64",
        "outputId": "2da82849-17ef-4dd4-c9cf-67724ce69d98"
      },
      "execution_count": 3,
      "outputs": [
        {
          "output_type": "error",
          "ename": "ImportError",
          "evalue": "attempted relative import with no known parent package",
          "traceback": [
            "\u001b[0;31m---------------------------------------------------------------------------\u001b[0m",
            "\u001b[0;31mImportError\u001b[0m                               Traceback (most recent call last)",
            "\u001b[0;32m<ipython-input-3-e17225c08a1f>\u001b[0m in \u001b[0;36m<cell line: 1>\u001b[0;34m()\u001b[0m\n\u001b[0;32m----> 1\u001b[0;31m \u001b[0;32mfrom\u001b[0m \u001b[0;34m.\u001b[0m\u001b[0;34m.\u001b[0m\u001b[0mdatapipeline_tf_kitti\u001b[0m\u001b[0;34m.\u001b[0m\u001b[0mdataset_creation\u001b[0m \u001b[0;32mimport\u001b[0m \u001b[0mmake_dataset\u001b[0m\u001b[0;34m\u001b[0m\u001b[0;34m\u001b[0m\u001b[0m\n\u001b[0m\u001b[1;32m      2\u001b[0m \u001b[0;32mfrom\u001b[0m \u001b[0;34m.\u001b[0m\u001b[0;34m.\u001b[0m\u001b[0mdatapipeline_tf_kitti\u001b[0m\u001b[0;34m.\u001b[0m\u001b[0mdataset_utils\u001b[0m \u001b[0;32mimport\u001b[0m \u001b[0mget_relevant_paths\u001b[0m\u001b[0;34m,\u001b[0m \u001b[0mvisualize_sequence\u001b[0m\u001b[0;34m\u001b[0m\u001b[0;34m\u001b[0m\u001b[0m\n\u001b[1;32m      3\u001b[0m \u001b[0;34m\u001b[0m\u001b[0m\n\u001b[1;32m      4\u001b[0m \u001b[0;32mimport\u001b[0m \u001b[0mtensorflow\u001b[0m \u001b[0;32mas\u001b[0m \u001b[0mtf\u001b[0m\u001b[0;34m\u001b[0m\u001b[0;34m\u001b[0m\u001b[0m\n\u001b[1;32m      5\u001b[0m \u001b[0;34m\u001b[0m\u001b[0m\n",
            "\u001b[0;31mImportError\u001b[0m: attempted relative import with no known parent package",
            "",
            "\u001b[0;31m---------------------------------------------------------------------------\u001b[0;32m\nNOTE: If your import is failing due to a missing package, you can\nmanually install dependencies using either !pip or !apt.\n\nTo view examples of installing some common dependencies, click the\n\"Open Examples\" button below.\n\u001b[0;31m---------------------------------------------------------------------------\u001b[0m\n"
          ],
          "errorDetails": {
            "actions": [
              {
                "action": "open_url",
                "actionText": "Open Examples",
                "url": "/notebooks/snippets/importing_libraries.ipynb"
              }
            ]
          }
        }
      ]
    },
    {
      "cell_type": "code",
      "source": [
        "# @title Checking Shapes\n",
        "print(f\"dataset.element_spec: {dataset_train.element_spec}\")\n",
        "\n",
        "for example in dataset_train.take(1):\n",
        "    features = example[0]\n",
        "    print(f\"Features shape: {features.shape}\")"
      ],
      "metadata": {
        "id": "kHsBDup9vo1t"
      },
      "execution_count": null,
      "outputs": []
    },
    {
      "cell_type": "code",
      "source": [
        "visualize_sequence(dataset_train)"
      ],
      "metadata": {
        "id": "AOQGKBfNvqI0"
      },
      "execution_count": null,
      "outputs": []
    }
  ]
}